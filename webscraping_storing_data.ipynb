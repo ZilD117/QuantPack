{
 "cells": [
  {
   "cell_type": "markdown",
   "metadata": {},
   "source": [
    "This is For Webscraping Real time Stock data from Yahoo Finance and store it locally."
   ]
  },
  {
   "cell_type": "code",
   "execution_count": 3,
   "metadata": {},
   "outputs": [],
   "source": [
    "import pandas as pd\n",
    "import datetime\n",
    "import requests\n",
    "from requests.exceptions import ConnectionError\n",
    "from bs4 import BeautifulSoup # Alert: BS4 no longer work for live price data as Yahoo is updating the class name in time\n"
   ]
  },
  {
   "cell_type": "code",
   "execution_count": 13,
   "metadata": {},
   "outputs": [],
   "source": [
    "from selenium import webdriver \n",
    "from selenium.webdriver.common.by import By\n",
    "from selenium.webdriver.chrome.options import Options\n",
    "from selenium.common.exceptions import NoSuchElementException\n",
    "from selenium.webdriver.chrome.service import Service\n"
   ]
  },
  {
   "cell_type": "code",
   "execution_count": 3,
   "metadata": {},
   "outputs": [],
   "source": [
    "headers = {'User-Agent': 'Mozilla/5.0 (X11; Ubuntu; Linux x86_64; rv:109.0) Gecko/20100101 Firefox/114.0'}\n"
   ]
  },
  {
   "cell_type": "code",
   "execution_count": 1,
   "metadata": {},
   "outputs": [],
   "source": [
    "def web_content_div(web_content, class_path, value):\n",
    "    web_content_div = web_content.find_all('div', {'class':class_path})\n",
    "    try:\n",
    "        if value != \"None\":\n",
    "            spans =  web_content_div[0].find_all(value)\n",
    "            texts = [span.get_text() for span in spans]\n",
    "        else:\n",
    "            texts =web_content_div[0].get_text(\"|\", strip=True)\n",
    "            texts = texts.split(\"|\") \n",
    "        #spans =  web_content_div[0].find_all('fin-streamer')\n",
    "        \n",
    "    except IndexError:\n",
    "        texts = []\n",
    "    return texts\n",
    "\n",
    "\n",
    "def real_time_price(stock_code):\n",
    "    Error = 0\n",
    "    url = \"https://finance.yahoo.com/quote/{}?p={}&.tsrc=fin-srch\".format(stock_code,stock_code)\n",
    "    try:\n",
    "        r = requests.Session().get(url,headers=headers)\n",
    "        web_content = BeautifulSoup(r.content,\"lxml\")\n",
    "        \n",
    "        # First getting the Price and Price change\n",
    "        texts = web_content_div(web_content,'My(6px) Pos(r) smartphone_Mt(6px) W(100%)','fin-streamer')\n",
    "        \n",
    "        price, change, volume, latest_pattern, one_year_target, = [],[], [],[], []\n",
    "\n",
    "        if texts != []:\n",
    "            print(\"price received\")\n",
    "            price, change,  = texts[0], texts[1] +' '+ texts[2]\n",
    "        \n",
    "        else:\n",
    "            price, change= [], []\n",
    "\n",
    "\n",
    "        # Second getting the Volume \n",
    "        texts = web_content_div(web_content,'D(ib) W(1/2) Bxz(bb) Pend(12px) Va(t) ie-7_D(i) smartphone_D(b) smartphone_W(100%) smartphone_Pend(0px) smartphone_BdY smartphone_Bdc($seperatorColor)','fin-streamer')\n",
    "        \n",
    "        \n",
    "        if texts != []:\n",
    "            print(\"volume received\")\n",
    "            volume = texts[0]\n",
    "        else:\n",
    "            volume = []\n",
    "\n",
    "        #Now getting the 1 year est\n",
    "        texts = web_content_div(web_content,'D(ib) W(1/2) Bxz(bb) Pstart(12px) Va(t) ie-7_D(i) ie-7_Pos(a) smartphone_D(b) smartphone_W(100%) smartphone_Pstart(0px) smartphone_BdB smartphone_Bdc($seperatorColor)','None')\n",
    "    \n",
    "        if texts != []:\n",
    "            print(\"one year tar\")\n",
    "\n",
    "            market_cap = texts[1]\n",
    "            PE_ratio_TTM = texts[5]\n",
    "            EPS_TTM = texts[7]\n",
    "            earning_date = texts[9]+texts[10]+texts[11]\n",
    "            one_year_target = texts[-1]\n",
    "            print(one_year_target)\n",
    "            \n",
    "            \n",
    "        else:\n",
    "            one_year_target = []\n",
    "            market_cap = []\n",
    "            PE_ratio_TTM = []\n",
    "            EPS_TTM = []\n",
    "            earning_date = []\n",
    "\n",
    "        # For past Finance Data\n",
    "        texts = web_content_div(web_content,'Cf Mb(15px)','None')\n",
    "    \n",
    "        if texts != []:\n",
    "            print(\"past data received\")\n",
    "\n",
    "            print(texts)\n",
    "            print(one_year_target)\n",
    "            \n",
    "            \n",
    "        else:\n",
    "            texts = []\n",
    "            \n",
    "                \n",
    "    except ConnectionError:\n",
    "        price, change, volume, latest_pattern, one_year_target = [],[], [],[], []\n",
    "        Error = 1\n",
    "        print(\"Connection Error\")\n",
    "    \n",
    "    return price, change, volume, latest_pattern, one_year_target, Error"
   ]
  },
  {
   "cell_type": "code",
   "execution_count": 31,
   "metadata": {},
   "outputs": [],
   "source": [
    "# Mb(20px) smartphone_Px(20px)"
   ]
  },
  {
   "cell_type": "code",
   "execution_count": 32,
   "metadata": {},
   "outputs": [],
   "source": [
    "# Revenue 260.17B Earnings 55.26B 2019 Revenue 274.51B Earnings 57.41B 2020 Revenue 365.82B Earnings 94.68B 2021 Revenue 394.33B Earnings 99.8B 2022 "
   ]
  },
  {
   "cell_type": "code",
   "execution_count": 4,
   "metadata": {},
   "outputs": [
    {
     "name": "stdout",
     "output_type": "stream",
     "text": [
      "text is\n",
      "[]\n"
     ]
    }
   ],
   "source": [
    "stock_code = 'AAPL'\n",
    "url = \"https://finance.yahoo.com/quote/{}?p={}&.tsrc=fin-srch\".format(stock_code,stock_code)\n",
    "r = requests.get(url,headers=headers)\n",
    "web_content = BeautifulSoup(r.content,\"lxml\")\n",
    "texts = web_content_div(web_content,'Mb(20px) smartphone_Px(20px)','None')\n",
    "print(\"text is\")\n",
    "print(texts)"
   ]
  },
  {
   "cell_type": "code",
   "execution_count": 5,
   "metadata": {},
   "outputs": [
    {
     "name": "stdout",
     "output_type": "stream",
     "text": [
      "([], [], [], [], [], 0)\n"
     ]
    }
   ],
   "source": [
    "Stock = ['IONQ', 'MSFT', \"NVDA\",]\n",
    "print(real_time_price(Stock))"
   ]
  },
  {
   "cell_type": "code",
   "execution_count": 6,
   "metadata": {},
   "outputs": [],
   "source": [
    "import time\n",
    "\n",
    "REFRESH_INTERVAL_S = 15 # 0.5 minutes"
   ]
  },
  {
   "cell_type": "code",
   "execution_count": 7,
   "metadata": {},
   "outputs": [
    {
     "name": "stdout",
     "output_type": "stream",
     "text": [
      "price received\n",
      "volume received\n",
      "one year tar\n",
      "16.00\n",
      "price received\n",
      "volume received\n",
      "one year tar\n",
      "408.96\n",
      "price received\n",
      "volume received\n",
      "one year tar\n",
      "641.23\n",
      "price received\n",
      "volume received\n",
      "one year tar\n",
      "16.00\n",
      "price received\n",
      "volume received\n",
      "one year tar\n",
      "408.96\n",
      "price received\n",
      "volume received\n",
      "one year tar\n",
      "641.23\n",
      "price received\n",
      "volume received\n",
      "one year tar\n",
      "16.00\n",
      "price received\n",
      "volume received\n",
      "one year tar\n",
      "408.96\n",
      "price received\n",
      "volume received\n",
      "one year tar\n",
      "641.23\n",
      "price received\n",
      "volume received\n",
      "one year tar\n",
      "16.00\n",
      "price received\n",
      "volume received\n",
      "one year tar\n",
      "408.96\n",
      "price received\n",
      "volume received\n",
      "one year tar\n",
      "641.23\n",
      "price received\n",
      "volume received\n",
      "one year tar\n",
      "16.00\n",
      "price received\n",
      "volume received\n",
      "one year tar\n",
      "408.96\n",
      "price received\n",
      "volume received\n",
      "one year tar\n",
      "641.23\n"
     ]
    }
   ],
   "source": [
    "while(True):\n",
    "    info = []\n",
    "    # Shift to US time 13 hours winter, 12 hours summer\n",
    "    time_stamp = datetime.datetime.now() - datetime.timedelta(hours=13)\n",
    "    time_stamp = time_stamp.strftime(\"%Y-%m-%d %H:%M:%S\")\n",
    "\n",
    "    for stock_code in Stock:\n",
    "        stock_price, change, volume,latest_pattern, one_year_target, Error = real_time_price(stock_code)\n",
    "        info.append(stock_code)\n",
    "        info.append(stock_price)\n",
    "        info.extend([change])\n",
    "        info.extend([volume])\n",
    "        info.extend([one_year_target])\n",
    "        \n",
    "\n",
    "    if Error != 0:\n",
    "        print(\"Connection Error\")\n",
    "        break\n",
    "    \n",
    "    col = [time_stamp]\n",
    "    col.extend(info)\n",
    "    df = pd.DataFrame(col)\n",
    "    df = df.T\n",
    "    path = \"C:\\\\Users\\\\User\\\\Desktop\\\\QuantPack\\\\\"\n",
    "    path += str(time_stamp[0:11])+ 'stock_data.csv'\n",
    "\n",
    "    df.to_csv(path, mode='a', header=False)\n",
    "    \n",
    "    time.sleep(REFRESH_INTERVAL_S)"
   ]
  },
  {
   "cell_type": "code",
   "execution_count": null,
   "metadata": {},
   "outputs": [],
   "source": [
    "\n"
   ]
  }
 ],
 "metadata": {
  "kernelspec": {
   "display_name": "Python 3",
   "language": "python",
   "name": "python3"
  },
  "language_info": {
   "codemirror_mode": {
    "name": "ipython",
    "version": 3
   },
   "file_extension": ".py",
   "mimetype": "text/x-python",
   "name": "python",
   "nbconvert_exporter": "python",
   "pygments_lexer": "ipython3",
   "version": "3.11.7"
  }
 },
 "nbformat": 4,
 "nbformat_minor": 2
}
